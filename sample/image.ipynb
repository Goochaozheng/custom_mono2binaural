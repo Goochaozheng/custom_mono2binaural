{
 "nbformat": 4,
 "nbformat_minor": 2,
 "metadata": {
  "language_info": {
   "name": "python",
   "codemirror_mode": {
    "name": "ipython",
    "version": 3
   },
   "version": "3.7.3-final"
  },
  "orig_nbformat": 2,
  "file_extension": ".py",
  "mimetype": "text/x-python",
  "name": "python",
  "npconvert_exporter": "python",
  "pygments_lexer": "ipython3",
  "version": 3,
  "kernelspec": {
   "name": "python3",
   "display_name": "Python 3"
  }
 },
 "cells": [
  {
   "cell_type": "markdown",
   "metadata": {},
   "source": [
    "# Image processing with PIL"
   ]
  },
  {
   "cell_type": "code",
   "execution_count": 1,
   "metadata": {},
   "outputs": [
    {
     "output_type": "stream",
     "name": "stdout",
     "text": "RGB\n"
    }
   ],
   "source": [
    "from PIL import Image\n",
    "import numpy as np\n",
    "\n",
    "image = Image.open('../data/frame/000001.png')\n",
    "print(image.mode)"
   ]
  },
  {
   "cell_type": "code",
   "execution_count": 4,
   "metadata": {},
   "outputs": [
    {
     "output_type": "execute_result",
     "data": {
      "text/plain": "PIL.PngImagePlugin.PngImageFile"
     },
     "metadata": {},
     "execution_count": 4
    }
   ],
   "source": [
    "type(image)"
   ]
  },
  {
   "cell_type": "code",
   "execution_count": 5,
   "metadata": {},
   "outputs": [
    {
     "output_type": "execute_result",
     "data": {
      "text/plain": "(720, 1280, 3)"
     },
     "metadata": {},
     "execution_count": 5
    }
   ],
   "source": [
    "array = np.array(image)\n",
    "array.shape"
   ]
  },
  {
   "cell_type": "code",
   "execution_count": 11,
   "metadata": {},
   "outputs": [],
   "source": [
    "resize = image.resize((448,224))\n",
    "resize.save('resize.png')"
   ]
  },
  {
   "cell_type": "code",
   "execution_count": 12,
   "metadata": {},
   "outputs": [
    {
     "output_type": "execute_result",
     "data": {
      "text/plain": "(224, 448, 3)"
     },
     "metadata": {},
     "execution_count": 12
    }
   ],
   "source": [
    "np.array(resize).shape"
   ]
  },
  {
   "cell_type": "code",
   "execution_count": 20,
   "metadata": {},
   "outputs": [
    {
     "output_type": "stream",
     "name": "stdout",
     "text": "0.37346255872140455\n"
    }
   ],
   "source": [
    "norm = array/255\n",
    "print(norm.mean())"
   ]
  },
  {
   "cell_type": "code",
   "execution_count": 23,
   "metadata": {},
   "outputs": [
    {
     "output_type": "execute_result",
     "data": {
      "text/plain": "array([0.38784404, 0.37597805, 0.35730355])"
     },
     "metadata": {},
     "execution_count": 23
    }
   ],
   "source": [
    "img = np.array(resize)/255\n",
    "mean_sum = np.array([0,0,0])\n",
    "mean = np.array([img[:,:,0].mean(), img[:,:,1].mean(), img[:,:,2].mean()])\n",
    "mean_sum = mean_sum + mean\n",
    "mean_sum"
   ]
  },
  {
   "cell_type": "code",
   "execution_count": 29,
   "metadata": {},
   "outputs": [
    {
     "output_type": "stream",
     "name": "stdout",
     "text": "[16 16 16]\n"
    }
   ],
   "source": [
    "a = np.array([1,2,3])\n",
    "b=np.array([3,2,1])\n",
    "print(\"%s\" % (a+b)**2)"
   ]
  },
  {
   "cell_type": "code",
   "execution_count": 37,
   "metadata": {},
   "outputs": [
    {
     "output_type": "execute_result",
     "data": {
      "text/plain": "array([[0.56470588, 0.53333333, 0.53333333, ..., 0.39215686, 0.38823529,\n        0.38431373],\n       [0.55686275, 0.52941176, 0.54117647, ..., 0.38823529, 0.39215686,\n        0.39607843],\n       [0.57254902, 0.56078431, 0.55686275, ..., 0.39215686, 0.38823529,\n        0.39215686],\n       ...,\n       [0.25490196, 0.23137255, 0.25098039, ..., 0.22352941, 0.21176471,\n        0.21568627],\n       [0.27058824, 0.23921569, 0.23921569, ..., 0.22352941, 0.23137255,\n        0.21568627],\n       [0.29803922, 0.2627451 , 0.23137255, ..., 0.23529412, 0.23137255,\n        0.23529412]])"
     },
     "metadata": {},
     "execution_count": 37
    }
   ],
   "source": [
    "img[:,:,0]"
   ]
  },
  {
   "cell_type": "markdown",
   "metadata": {},
   "source": [
    "# Calculate the mean & std of frame data"
   ]
  },
  {
   "cell_type": "code",
   "execution_count": 2,
   "metadata": {},
   "outputs": [
    {
     "output_type": "stream",
     "name": "stderr",
     "text": "100%|██████████| 1871/1871 [01:34<00:00, 19.74it/s]\nMean: [0.41820913 0.35141712 0.31842441]\n100%|██████████| 1871/1871 [11:47<00:00,  2.78it/s]\nStd: [0.07000807 0.04945439 0.05429836]\n"
    }
   ],
   "source": [
    "import os \n",
    "from tqdm import tqdm\n",
    "\n",
    "frame_dir = '..\\\\data\\\\frame'\n",
    "frames = os.listdir(frame_dir)\n",
    "frames = [os.path.join(frame_dir, i) for i in frames]\n",
    "\n",
    "mean_sum = np.array([0,0,0])\n",
    "\n",
    "for index in tqdm(range(len(frames))):\n",
    "    img = Image.open(frames[index])\n",
    "    img = img.resize((448,224))\n",
    "    img = np.array(img)/255\n",
    "    mean = np.array([img[:,:,0].mean(), img[:,:,1].mean(), img[:,:,2].mean()])\n",
    "    mean_sum = mean_sum + mean\n",
    "\n",
    "total_mean = mean_sum/len(frames)\n",
    "print(\"Mean: %s\" % total_mean)\n",
    "\n",
    "diff_sum = np.array([0,0,0])\n",
    "for index in tqdm(range(len(frames))):\n",
    "    img = Image.open(frames[index])\n",
    "    img = img.resize((448,224))\n",
    "    img = np.array(img)/255\n",
    "    for x in range(img.shape[0]):\n",
    "        for y in range(img.shape[1]):\n",
    "            diff = (img[x,y,:]-total_mean)**2\n",
    "            diff_sum = diff_sum + diff\n",
    "iff_sumnp.sqrt(/(len(frames)*img.shape[0]*img.shape[1])\n",
    "print(\")Std: %s\" % std)"
   ]
  },
  {
   "cell_type": "code",
   "execution_count": 3,
   "metadata": {},
   "outputs": [
    {
     "output_type": "execute_result",
     "data": {
      "text/plain": "array([0.26459038, 0.22238343, 0.23302009])"
     },
     "metadata": {},
     "execution_count": 3
    }
   ],
   "source": [
    "np.sqrt(std)"
   ]
  },
  {
   "cell_type": "code",
   "execution_count": 4,
   "metadata": {},
   "outputs": [
    {
     "output_type": "execute_result",
     "data": {
      "text/plain": "array([0.07000807, 0.04945439, 0.05429836])"
     },
     "metadata": {},
     "execution_count": 4
    }
   ],
   "source": [
    "std"
   ]
  },
  {
   "cell_type": "code",
   "execution_count": null,
   "metadata": {},
   "outputs": [],
   "source": []
  }
 ]
}