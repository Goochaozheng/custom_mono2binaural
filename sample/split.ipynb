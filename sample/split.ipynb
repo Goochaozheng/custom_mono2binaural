{
 "nbformat": 4,
 "nbformat_minor": 2,
 "metadata": {
  "language_info": {
   "name": "python",
   "codemirror_mode": {
    "name": "ipython",
    "version": 3
   },
   "version": "3.7.3-final"
  },
  "orig_nbformat": 2,
  "file_extension": ".py",
  "mimetype": "text/x-python",
  "name": "python",
  "npconvert_exporter": "python",
  "pygments_lexer": "ipython3",
  "version": 3,
  "kernelspec": {
   "name": "python3",
   "display_name": "Python 3"
  }
 },
 "cells": [
  {
   "cell_type": "code",
   "execution_count": 1,
   "metadata": {},
   "outputs": [
    {
     "output_type": "execute_result",
     "data": {
      "text/plain": "array([b'D:\\\\WorkingFiles\\\\GraduationProject\\\\Workspace\\\\data\\\\audio_seg\\\\000743.wav',\n       b'D:\\\\WorkingFiles\\\\GraduationProject\\\\Workspace\\\\data\\\\audio_seg\\\\000860.wav',\n       b'D:\\\\WorkingFiles\\\\GraduationProject\\\\Workspace\\\\data\\\\audio_seg\\\\000381.wav',\n       b'D:\\\\WorkingFiles\\\\GraduationProject\\\\Workspace\\\\data\\\\audio_seg\\\\000628.wav',\n       b'D:\\\\WorkingFiles\\\\GraduationProject\\\\Workspace\\\\data\\\\audio_seg\\\\001413.wav'],\n      dtype='|S78')"
     },
     "metadata": {},
     "execution_count": 1
    }
   ],
   "source": [
    "import h5py\n",
    "import numpy as np\n",
    "import os\n",
    "\n",
    "data_dir = \"D:\\\\WorkingFiles\\\\GraduationProject\\\\Workspace\\\\data\\\\audio_seg\"\n",
    "files = os.listdir(data_dir)\n",
    "files = [np.string_(os.path.join(data_dir, f)) for f in files]\n",
    "files = np.array(files)\n",
    "np.random.shuffle(files)\n",
    "files[:5]"
   ]
  },
  {
   "cell_type": "code",
   "execution_count": 2,
   "metadata": {},
   "outputs": [],
   "source": [
    "train = files[:1497]\n",
    "test = files[1497:1684]\n",
    "val = files[-187:]"
   ]
  },
  {
   "cell_type": "code",
   "execution_count": 3,
   "metadata": {},
   "outputs": [],
   "source": [
    "with h5py.File(\"Split\\split-2.h5\", 'w') as f:\n",
    "    f.create_dataset(\"train\", data=train)\n",
    "    f.create_dataset(\"test\", data=test)\n",
    "    f.create_dataset(\"val\", data=val)\n",
    ""
   ]
  },
  {
   "cell_type": "code",
   "execution_count": 5,
   "metadata": {},
   "outputs": [],
   "source": [
    "f = h5py.File(\"Split/split-2.h5\", 'r')"
   ]
  },
  {
   "cell_type": "code",
   "execution_count": 9,
   "metadata": {},
   "outputs": [
    {
     "output_type": "execute_result",
     "data": {
      "text/plain": "['test', 'train', 'val']"
     },
     "metadata": {},
     "execution_count": 9
    }
   ],
   "source": [
    "list(f.keys())"
   ]
  },
  {
   "cell_type": "code",
   "execution_count": 11,
   "metadata": {},
   "outputs": [
    {
     "output_type": "execute_result",
     "data": {
      "text/plain": "1497"
     },
     "metadata": {},
     "execution_count": 11
    }
   ],
   "source": [
    "len(f['train'])"
   ]
  },
  {
   "cell_type": "code",
   "execution_count": null,
   "metadata": {},
   "outputs": [],
   "source": []
  }
 ]
}