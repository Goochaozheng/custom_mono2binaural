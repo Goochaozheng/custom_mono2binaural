{
 "nbformat": 4,
 "nbformat_minor": 2,
 "metadata": {
  "language_info": {
   "name": "python",
   "codemirror_mode": {
    "name": "ipython",
    "version": 3
   },
   "version": "3.7.3-final"
  },
  "orig_nbformat": 2,
  "file_extension": ".py",
  "mimetype": "text/x-python",
  "name": "python",
  "npconvert_exporter": "python",
  "pygments_lexer": "ipython3",
  "version": 3,
  "kernelspec": {
   "name": "python3",
   "display_name": "Python 3"
  }
 },
 "cells": [
  {
   "cell_type": "markdown",
   "metadata": {},
   "source": [
    "# Process hdf5 file"
   ]
  },
  {
   "cell_type": "code",
   "execution_count": 2,
   "metadata": {},
   "outputs": [
    {
     "output_type": "execute_result",
     "data": {
      "text/plain": "h5py._hl.files.File"
     },
     "metadata": {},
     "execution_count": 2
    }
   ],
   "source": [
    "import h5py\n",
    "\n",
    "h5f = h5py.File(\"H:\\\\FAIR-Play\\\\FAIR-Play\\\\splits\\\\split1\\\\test.h5\", 'r')\n",
    "type(h5f)"
   ]
  },
  {
   "cell_type": "code",
   "execution_count": 3,
   "metadata": {},
   "outputs": [
    {
     "data": {
      "text/plain": "<HDF5 dataset \"audio\": shape (187,), type \"|S71\">"
     },
     "execution_count": 3,
     "metadata": {},
     "output_type": "execute_result"
    }
   ],
   "source": [
    "h5f['audio']"
   ]
  },
  {
   "cell_type": "code",
   "execution_count": 4,
   "metadata": {},
   "outputs": [
    {
     "data": {
      "text/plain": "h5py._hl.dataset.Dataset"
     },
     "execution_count": 4,
     "metadata": {},
     "output_type": "execute_result"
    }
   ],
   "source": [
    "type(h5f['audio'])"
   ]
  },
  {
   "cell_type": "code",
   "execution_count": 5,
   "metadata": {},
   "outputs": [
    {
     "data": {
      "text/plain": "(187,)"
     },
     "execution_count": 5,
     "metadata": {},
     "output_type": "execute_result"
    }
   ],
   "source": [
    "h5f['audio'].shape"
   ]
  },
  {
   "cell_type": "code",
   "execution_count": 6,
   "metadata": {},
   "outputs": [
    {
     "data": {
      "text/plain": "array([b'/private/home/rhgao/datasets/BINAURAL_MUSIC_ROOM/binaural16k/000794.wav',\n       b'/private/home/rhgao/datasets/BINAURAL_MUSIC_ROOM/binaural16k/001158.wav',\n       b'/private/home/rhgao/datasets/BINAURAL_MUSIC_ROOM/binaural16k/001353.wav',\n       b'/private/home/rhgao/datasets/BINAURAL_MUSIC_ROOM/binaural16k/001401.wav',\n       b'/private/home/rhgao/datasets/BINAURAL_MUSIC_ROOM/binaural16k/001495.wav'],\n      dtype='|S71')"
     },
     "execution_count": 6,
     "metadata": {},
     "output_type": "execute_result"
    }
   ],
   "source": [
    "h5f['audio'][:5]"
   ]
  },
  {
   "cell_type": "code",
   "execution_count": 7,
   "metadata": {},
   "outputs": [
    {
     "data": {
      "text/plain": "['audio']"
     },
     "execution_count": 7,
     "metadata": {},
     "output_type": "execute_result"
    }
   ],
   "source": [
    "list(h5f.keys())"
   ]
  },
  {
   "cell_type": "code",
   "execution_count": 8,
   "metadata": {},
   "outputs": [
    {
     "data": {
      "text/plain": "numpy.bytes_"
     },
     "execution_count": 8,
     "metadata": {},
     "output_type": "execute_result"
    }
   ],
   "source": [
    "type(h5f['audio'][0])"
   ]
  },
  {
   "cell_type": "code",
   "execution_count": 21,
   "metadata": {},
   "outputs": [],
   "source": [
    "import torch\n",
    "\n",
    "audio_feature = h5py.File('..\\\\data\\\\data.h5', 'r')\n",
    "spec = torch.FloatTensor(audio_feature['audio_diff'][0])"
   ]
  },
  {
   "cell_type": "code",
   "execution_count": 15,
   "metadata": {},
   "outputs": [
    {
     "output_type": "execute_result",
     "data": {
      "text/plain": "torch.Size([1, 256, 64])"
     },
     "metadata": {},
     "execution_count": 15
    }
   ],
   "source": [
    "res = spec[0,:-1,:]\n",
    "res.unsqueeze(0).shape"
   ]
  },
  {
   "cell_type": "code",
   "execution_count": 23,
   "metadata": {},
   "outputs": [
    {
     "output_type": "execute_result",
     "data": {
      "text/plain": "torch.Size([2, 256, 64])"
     },
     "metadata": {},
     "execution_count": 23
    }
   ],
   "source": [
    "spec[:,:-1,:].shape"
   ]
  },
  {
   "cell_type": "markdown",
   "metadata": {},
   "source": [
    "# Combine data"
   ]
  },
  {
   "cell_type": "code",
   "execution_count": 1,
   "metadata": {},
   "outputs": [],
   "source": [
    "import h5py\n",
    "mix_specs = h5py.File('../data/audio_mix_spec.h5','r')\n",
    "diff_specs = h5py.File('../data/audio_diff_spec.h5', 'r')\n",
    "visual_feature = h5py.File('../data/visual_extract_resnet18_cropped.h5')\n",
    "\n",
    "# Train set\n",
    "with h5py.File('../data/split/split-1/train.h5', 'w') as f:\n",
    "    f.create_dataset('visual_feature', data=visual_feature['features'][:1496])\n",
    "    f.create_dataset('audio_mix', data=mix_specs['audio_mix_spec'][:1496])\n",
    "    f.create_dataset('audio_diff', data=diff_specs['audio_diff_spec'][:1496])\n",
    "\n",
    "# Test set\n",
    "with h5py.File('../data/split/split-1/test.h5', 'w') as f:\n",
    "    f.create_dataset('visual_feature', data=visual_feature['features'][1496:1683])\n",
    "    f.create_dataset('audio_mix', data=mix_specs['audio_mix_spec'][1496:1683])\n",
    "    f.create_dataset('audio_diff', data=diff_specs['audio_diff_spec'][1496:1683])\n",
    "\n",
    "# Val set\n",
    "with h5py.File('../data/split/split-1/val.h5', 'w') as f:\n",
    "    f.create_dataset('visual_feature', data=visual_feature['features'][1683:1871])\n",
    "    f.create_dataset('audio_mix', data=mix_specs['audio_mix_spec'][1683:1871])\n",
    "    f.create_dataset('audio_diff', data=diff_specs['audio_diff_spec'][1683:1871])"
   ]
  }
 ]
}